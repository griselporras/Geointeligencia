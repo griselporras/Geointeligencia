{
 "cells": [
  {
   "cell_type": "code",
   "execution_count": null,
   "metadata": {},
   "outputs": [],
   "source": [
    "from outscraper import ApiClient\n",
    "\n",
    "client = ApiClient(api_key='AHEKNSI9285HFKD9DAHKJSDHA9S873KSJKDFHSI6FSDFKS')\n",
    "\n",
    "results = client.google_maps_search([\n",
    "    'gasolineras monterrey mx',\n",
    "    'bars brooklyn usa',\n",
    "], language='esp')\n"
   ]
  },
  {
   "cell_type": "code",
   "execution_count": null,
   "metadata": {},
   "outputs": [],
   "source": [
    "results.to_csv('Outscraper_gasolineras')"
   ]
  }
 ],
 "metadata": {
  "language_info": {
   "name": "python"
  }
 },
 "nbformat": 4,
 "nbformat_minor": 2
}
