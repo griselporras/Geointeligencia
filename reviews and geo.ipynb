{
 "cells": [
  {
   "cell_type": "code",
   "execution_count": 1,
   "id": "78eb60f8-8620-4e7a-a9a1-5f2ef9c1a1bf",
   "metadata": {},
   "outputs": [],
   "source": [
    "import findspark\n",
    "findspark.init()\n",
    "import shapely\n",
    "import pandas as pd\n",
    "import geopandas as gpd\n",
    "from pyspark.sql import SparkSession\n",
    "from pyspark import SparkContext\n",
    "from pyspark import SparkConf\n",
    "from sedona.register import SedonaRegistrator\n",
    "from sedona.utils import SedonaKryoRegistrator, KryoSerializer\n",
    "from shapely import wkt"
   ]
  },
  {
   "cell_type": "code",
   "execution_count": 2,
   "id": "ff969329-514b-4f9b-9ff5-d322e4543e03",
   "metadata": {},
   "outputs": [
    {
     "data": {
      "text/plain": [
       "True"
      ]
     },
     "execution_count": 2,
     "metadata": {},
     "output_type": "execute_result"
    }
   ],
   "source": [
    "spark = SparkSession. \\\n",
    "builder. \\\n",
    "appName('appName'). \\\n",
    "config(\"spark.serializer\", KryoSerializer.getName). \\\n",
    "config(\"spark.executor.memory\", \"5g\"). \\\n",
    "config(\"spark.driver.memory\", \"10g\"). \\\n",
    "config('spark.driver.maxResultSize', '5g'). \\\n",
    "config(\"spark.kryo.registrator\", SedonaKryoRegistrator.getName). \\\n",
    "config('spark.jars.packages',\n",
    "           'org.apache.sedona:sedona-python-adapter-3.0_2.12:1.2.0-incubating,org.datasyslab:geotools-wrapper:1.1.0-25.2'). \\\n",
    "getOrCreate()\n",
    "SedonaRegistrator.registerAll(spark)"
   ]
  },
  {
   "cell_type": "code",
   "execution_count": 3,
   "id": "0e8c3319-04a1-4d4d-aa29-baa2dd2dcc3c",
   "metadata": {},
   "outputs": [
    {
     "name": "stdout",
     "output_type": "stream",
     "text": [
      "root\n",
      " |-- CVEGEO: string (nullable = true)\n",
      " |-- geometry: string (nullable = true)\n",
      "\n",
      "+----------------+--------------------+\n",
      "|          CVEGEO|            geometry|\n",
      "+----------------+--------------------+\n",
      "|1900100010021028|POLYGON ((2659951...|\n",
      "|1900100010021031|POLYGON ((2659516...|\n",
      "|1900100010021036|POLYGON ((2659395...|\n",
      "|1900100010036005|POLYGON ((2660345...|\n",
      "|1900100010036019|POLYGON ((2660117...|\n",
      "|1900100010036028|POLYGON ((2660120...|\n",
      "|1900100010036029|POLYGON ((2660279...|\n",
      "|1900100010036030|POLYGON ((2660352...|\n",
      "|1900100010036042|POLYGON ((2660087...|\n",
      "|1900200010207004|POLYGON ((2745115...|\n",
      "|1900200010207010|POLYGON ((2744991...|\n",
      "|1900200010207023|POLYGON ((2745358...|\n",
      "|1900200010207035|POLYGON ((2745284...|\n",
      "|1900200010207040|POLYGON ((2745279...|\n",
      "|1900200010211009|POLYGON ((2744795...|\n",
      "|1900200010211014|POLYGON ((2744493...|\n",
      "|1900200010211016|POLYGON ((2744699...|\n",
      "|1900200010211019|POLYGON ((2744975...|\n",
      "|1900200010211024|POLYGON ((2744589...|\n",
      "|1900200010211028|POLYGON ((2744969...|\n",
      "+----------------+--------------------+\n",
      "only showing top 20 rows\n",
      "\n"
     ]
    }
   ],
   "source": [
    "BD_MANZANAS = spark.read.parquet(f\"../SCINCE_Parquets/*.parquet\")\n",
    "BD_MANZANAS_EEVVV = BD_MANZANAS.select('CVEGEO', 'geometry')\n",
    "BD_MANZANAS_EEVVV.cache()\n",
    "BD_MANZANAS_EEVVV.printSchema()\n",
    "BD_MANZANAS_EEVVV.show()"
   ]
  },
  {
   "cell_type": "code",
   "execution_count": 4,
   "id": "15eaa350-8e44-4d84-9115-87bd8c22889b",
   "metadata": {},
   "outputs": [],
   "source": [
    "BD_MANZANAS_EEVVV.createOrReplaceTempView(\"manzanas\")\n",
    "\n"
   ]
  },
  {
   "cell_type": "code",
   "execution_count": 7,
   "id": "4f0750bd-b57a-4736-b223-86831287d6f9",
   "metadata": {},
   "outputs": [
    {
     "name": "stdout",
     "output_type": "stream",
     "text": [
      "+--------------------+----------+------------+----------------------+--------------------+\n",
      "|           google_id|  latitude|   longitude|Average of CALIF TOTAL|            geometry|\n",
      "+--------------------+----------+------------+----------------------+--------------------+\n",
      "|0x8662bfb106713cc...| 25.644376|-100.2971011|           8.301587302|POINT (2670178.67...|\n",
      "|0x8662be01437db22...|  25.66811|-100.3450231|           8.227272727|POINT (2665359.62...|\n",
      "|0x8662957f9c8379d...| 25.678379| -100.303761|           7.613095238|POINT (2669468.81...|\n",
      "|0x8662bf41d52a8ae...|25.6490203|-100.2742219|           7.547794118|POINT (2672458.83...|\n",
      "|0x8662969404a8738...|25.7371591|-100.3672212|                   7.5|POINT (2663055.09...|\n",
      "|0x8662971d5f7b572...| 25.728984|-100.3947993|           7.488461538|POINT (2660311.25...|\n",
      "|0x866296756b0d543...| 25.697366| -100.351063|           7.417249417|POINT (2664719.08...|\n",
      "|0x8662979ce484b33...|25.7136447|-100.3632576|           6.794871795|POINT (2663480.48...|\n",
      "|0x866295824644e8b...|25.6829579|-100.3068435|           6.453658537|POINT (2669154.90...|\n",
      "|0x866295d48e110af...|25.7173083|-100.3451964|           6.282051282|POINT (2665279.72...|\n",
      "|0x86629503b3f09aa...|25.7381743|-100.3258634|            6.18997669|POINT (2667183.73...|\n",
      "|0x866296898f95d26...|25.7045658|-100.3482009|           6.133333333|POINT (2664995.83...|\n",
      "|0x866295efb28ddad...|25.6873291| -100.335895|           6.090909091|POINT (2666247.04...|\n",
      "|0x866295ef090fa17...|25.6873217|-100.3358723|                   6.0|POINT (2666249.32...|\n",
      "|0x8662956d5418295...|25.6996088|-100.2933959|           5.637987013|POINT (2670476.47...|\n",
      "|0x8662be2697201be...|25.6698544|-100.3202361|           5.607142857|POINT (2667833.89...|\n",
      "|0x8662bf8ca6e1415...|25.6619879|-100.3138148|           5.461538462|POINT (2668485.64...|\n",
      "|0x8662be1bb36eacc...|25.6647111|-100.3348382|           5.340740741|POINT (2666381.57...|\n",
      "|0x8662957c78c2ef4...|25.6819951|-100.2968629|           5.222222222|POINT (2670153.22...|\n",
      "|0x866295845bcaac5...| 25.683499| -100.312671|           4.791666667|POINT (2668572.02...|\n",
      "+--------------------+----------+------------+----------------------+--------------------+\n",
      "only showing top 20 rows\n",
      "\n"
     ]
    }
   ],
   "source": [
    "from pyspark.sql import SparkSession\n",
    "from pyspark.sql.functions import lit\n",
    "from pyspark.sql.functions import col\n",
    "import pyspark.sql.functions as F\n",
    "import pyproj\n",
    "gas = spark.read.csv('gasolineras_rating.csv', header=True, inferSchema=True)\n",
    "\n",
    "# Define el CRS de entrada (WGS 84) y el CRS de salida (por ejemplo, UTM Zone 14N)\n",
    "crs_entrada = pyproj.CRS(\"EPSG:4326\")  # WGS 84 (Latitud/Longitud)\n",
    "crs_salida = 'PROJCS[\"Mexico_ITRF2008_LCC\",GEOGCS[\"Mexico_ITRF2008\",DATUM[\"Mexico_ITRF2008\",SPHEROID[\"GRS_1980\",6378137,298.257222101],TOWGS84[0,0,0,0,0,0,0]],PRIMEM[\"Greenwich\",0],UNIT[\"Degree\",0.0174532925199433]],PROJECTION[\"Lambert_Conformal_Conic_2SP\",AUTHORITY[\"EPSG\",\"9802\"]],PARAMETER[\"Central_Meridian\",-102],PARAMETER[\"Latitude_Of_Origin\",12],PARAMETER[\"False_Easting\",2500000],PARAMETER[\"False_Northing\",0],PARAMETER[\"Standard_Parallel_1\",17.5],PARAMETER[\"Standard_Parallel_2\",29.5],PARAMETER[\"Scale_Factor\",1],UNIT[\"Meter\",1,AUTHORITY[\"EPSG\",\"9001\"]],AUTHORITY[\"EPSG\",\"6372\"]]'\n",
    "\n",
    "# Crea un transformador de coordenadas\n",
    "transformador = pyproj.Transformer.from_crs(crs_entrada, crs_salida, always_xy=True)\n",
    "\n",
    "# Define una función UDF (User Defined Function) para aplicar la transformación\n",
    "def transformar_coordenadas(latitude, longitude):\n",
    "    x, y = transformador.transform(longitude, latitude)\n",
    "    return f\"POINT ({x:.8f} {y:.8f})\"\n",
    "\n",
    "# Agrega una nueva columna 'geometry' con las coordenadas transformadas\n",
    "gas = gas.withColumn(\"geometry\", F.udf(transformar_coordenadas)(col(\"latitude\"), col(\"longitude\")))\n",
    "from pyspark.sql.functions import expr\n",
    "\n",
    "# Convierte la columna 'geometry' en objetos geométricos\n",
    "gas = gas.withColumn(\"geometry\", expr(\"ST_GeomFromText(geometry)\"))\n",
    "# Muestra el DataFrame resultante\n",
    "gas.show()\n",
    "\n",
    "# Registrar el DataFrame de Spark como una vista temporal en Spark SQL\n",
    "gas.createOrReplaceTempView(\"gas\")"
   ]
  },
  {
   "cell_type": "code",
   "execution_count": null,
   "id": "f46579af-1508-442e-8884-05464652a96c",
   "metadata": {},
   "outputs": [],
   "source": [
    "x"
   ]
  },
  {
   "cell_type": "code",
   "execution_count": 8,
   "id": "669ef7e5-f881-4423-89a4-aa52b4b67d7a",
   "metadata": {},
   "outputs": [
    {
     "name": "stderr",
     "output_type": "stream",
     "text": [
      "C:\\Users\\grise\\AppData\\Local\\Temp\\ipykernel_25788\\4123383362.py:7: UserWarning: Column names longer than 10 characters will be truncated when saved to ESRI Shapefile.\n",
      "  Influencia_reviews_shp.to_file(f\"./resultados/{archivo}.shp\")\n"
     ]
    }
   ],
   "source": [
    "Influencia_reviews_rating = spark.sql(\"\"\"SELECT*\n",
    "FROM gas\n",
    "\"\"\").toPandas()\n",
    "\n",
    "Influencia_reviews_shp = gpd.GeoDataFrame(Influencia_reviews_rating, geometry=\"geometry\")\n",
    "archivo = 'Influencia_reviews_rating'\n",
    "Influencia_reviews_shp.to_file(f\"./resultados/{archivo}.shp\")\n",
    "crs='PROJCS[\"Mexico_ITRF2008_LCC\",GEOGCS[\"Mexico_ITRF2008\",DATUM[\"Mexico_ITRF2008\",SPHEROID[\"GRS_1980\",6378137,298.257222101],TOWGS84[0,0,0,0,0,0,0]],PRIMEM[\"Greenwich\",0],UNIT[\"Degree\",0.0174532925199433]],PROJECTION[\"Lambert_Conformal_Conic_2SP\",AUTHORITY[\"EPSG\",\"9802\"]],PARAMETER[\"Central_Meridian\",-102],PARAMETER[\"Latitude_Of_Origin\",12],PARAMETER[\"False_Easting\",2500000],PARAMETER[\"False_Northing\",0],PARAMETER[\"Standard_Parallel_1\",17.5],PARAMETER[\"Standard_Parallel_2\",29.5],PARAMETER[\"Scale_Factor\",1],UNIT[\"Meter\",1,AUTHORITY[\"EPSG\",\"9001\"]],AUTHORITY[\"EPSG\",\"6372\"]]'\n",
    "PRJ_file = open(f\"./resultados/{archivo}.prj\",\"w\")\n",
    "PRJ_file.write(crs)\n",
    "PRJ_file.close()"
   ]
  },
  {
   "cell_type": "code",
   "execution_count": null,
   "id": "9fe40834-d2a7-4bd4-a915-082dbdaf4a4f",
   "metadata": {},
   "outputs": [],
   "source": [
    "from pyspark.sql import SparkSession\n",
    "from pyspark.sql.functions import lit\n",
    "from pyspark.sql.functions import col\n",
    "import pyspark.sql.functions as F\n",
    "import pyproj\n",
    "gas = spark.read.csv('Outscraper-202309280607358c12_gasolinera.csv', header=True, inferSchema=True)\n",
    "\n",
    "# Define el CRS de entrada (WGS 84) y el CRS de salida (por ejemplo, UTM Zone 14N)\n",
    "crs_entrada = pyproj.CRS(\"EPSG:4326\")  # WGS 84 (Latitud/Longitud)\n",
    "crs_salida = 'PROJCS[\"Mexico_ITRF2008_LCC\",GEOGCS[\"Mexico_ITRF2008\",DATUM[\"Mexico_ITRF2008\",SPHEROID[\"GRS_1980\",6378137,298.257222101],TOWGS84[0,0,0,0,0,0,0]],PRIMEM[\"Greenwich\",0],UNIT[\"Degree\",0.0174532925199433]],PROJECTION[\"Lambert_Conformal_Conic_2SP\",AUTHORITY[\"EPSG\",\"9802\"]],PARAMETER[\"Central_Meridian\",-102],PARAMETER[\"Latitude_Of_Origin\",12],PARAMETER[\"False_Easting\",2500000],PARAMETER[\"False_Northing\",0],PARAMETER[\"Standard_Parallel_1\",17.5],PARAMETER[\"Standard_Parallel_2\",29.5],PARAMETER[\"Scale_Factor\",1],UNIT[\"Meter\",1,AUTHORITY[\"EPSG\",\"9001\"]],AUTHORITY[\"EPSG\",\"6372\"]]'\n",
    "\n",
    "# Crea un transformador de coordenadas\n",
    "transformador = pyproj.Transformer.from_crs(crs_entrada, crs_salida, always_xy=True)\n",
    "\n",
    "# Define una función UDF (User Defined Function) para aplicar la transformación\n",
    "def transformar_coordenadas(latitude, longitude):\n",
    "    x, y = transformador.transform(longitude, latitude)\n",
    "    return f\"POINT ({x:.8f} {y:.8f})\"\n",
    "\n",
    "# Agrega una nueva columna 'geometry' con las coordenadas transformadas\n",
    "gas = gas.withColumn(\"geometry\", F.udf(transformar_coordenadas)(col(\"latitude\"), col(\"longitude\")))\n",
    "from pyspark.sql.functions import expr\n",
    "\n",
    "# Convierte la columna 'geometry' en objetos geométricos\n",
    "gas = gas.withColumn(\"geometry\", expr(\"ST_GeomFromText(geometry)\"))\n",
    "# Muestra el DataFrame resultante\n",
    "gas.show()\n",
    "\n",
    "# Registrar el DataFrame de Spark como una vista temporal en Spark SQL\n",
    "gas.createOrReplaceTempView(\"gas\")"
   ]
  },
  {
   "cell_type": "code",
   "execution_count": null,
   "id": "5fa1bd63-5990-4626-8342-95126ddb2853",
   "metadata": {},
   "outputs": [],
   "source": [
    "BD_MANZANAS_EEVVV = BD_MANZANAS_EEVVV.withColumn('geometry', expr(\"ST_GeomFromWKT(geometry)\"))\n",
    "BD_MANZANAS_EEVVV.createOrReplaceTempView(\"manzanas\")"
   ]
  },
  {
   "cell_type": "code",
   "execution_count": null,
   "id": "df04b31c-5aa7-4f62-912b-ddfc84c487c2",
   "metadata": {},
   "outputs": [],
   "source": []
  },
  {
   "cell_type": "code",
   "execution_count": null,
   "id": "81908157-452f-4b65-9934-a76b884ff345",
   "metadata": {},
   "outputs": [],
   "source": [
    "gas.show()"
   ]
  },
  {
   "cell_type": "code",
   "execution_count": null,
   "id": "a40122a9-b9e7-47bd-ba7a-6c4c47946791",
   "metadata": {},
   "outputs": [],
   "source": [
    "Influencia_reviews = spark.sql(\"\"\"SELECT \n",
    "    CVEGEO,\n",
    "    manzanas.geometry,\n",
    "    gas.google_id,\n",
    "    gas.latitude,\n",
    "    gas.longitude,\n",
    "    COUNT(*) as n_reviews\n",
    "FROM manzanas, gas\n",
    "    WHERE (ST_Intersects(manzanas.geometry, ST_Buffer(gas.geometry, 300)))\n",
    "    GROUP BY CVEGEO,manzanas.geometry,    gas.latitude,\n",
    "    gas.longitude,google_id\n",
    "\"\"\").toPandas()\n",
    "\n",
    "Influencia_reviews.to_excel('reviews_cvgeo.xlsx')\n",
    "Influencia_reviews_shp = gpd.GeoDataFrame(Influencia_reviews, geometry=\"geometry\")\n",
    "archivo = 'manzanas_kmeans_gasolineras_reviews'\n",
    "Influencia_reviews_shp.to_file(f\"./resultados/{archivo}.shp\")\n",
    "crs='PROJCS[\"Mexico_ITRF2008_LCC\",GEOGCS[\"Mexico_ITRF2008\",DATUM[\"Mexico_ITRF2008\",SPHEROID[\"GRS_1980\",6378137,298.257222101],TOWGS84[0,0,0,0,0,0,0]],PRIMEM[\"Greenwich\",0],UNIT[\"Degree\",0.0174532925199433]],PROJECTION[\"Lambert_Conformal_Conic_2SP\",AUTHORITY[\"EPSG\",\"9802\"]],PARAMETER[\"Central_Meridian\",-102],PARAMETER[\"Latitude_Of_Origin\",12],PARAMETER[\"False_Easting\",2500000],PARAMETER[\"False_Northing\",0],PARAMETER[\"Standard_Parallel_1\",17.5],PARAMETER[\"Standard_Parallel_2\",29.5],PARAMETER[\"Scale_Factor\",1],UNIT[\"Meter\",1,AUTHORITY[\"EPSG\",\"9001\"]],AUTHORITY[\"EPSG\",\"6372\"]]'\n",
    "PRJ_file = open(f\"./resultados/{archivo}.prj\",\"w\")\n",
    "PRJ_file.write(crs)\n",
    "PRJ_file.close()"
   ]
  },
  {
   "cell_type": "code",
   "execution_count": null,
   "id": "9e6c91e4-6e18-4628-8c25-98755c99078a",
   "metadata": {},
   "outputs": [],
   "source": [
    "Influencia_reviews"
   ]
  },
  {
   "cell_type": "code",
   "execution_count": null,
   "id": "160fa043-efd6-40ce-934f-c6d152efc004",
   "metadata": {},
   "outputs": [],
   "source": [
    "import geopandas as gpd\n",
    "import matplotlib.pyplot as plt\n",
    "\n",
    "# Ruta al archivo shapefile generado\n",
    "archivo = 'manzanas_kmeans_gasolineras_reviews'\n",
    "ruta_shapefile = f\"./resultados/{archivo}.shp\"\n",
    "\n",
    "# Cargar el archivo shapefile con geopandas\n",
    "data = gpd.read_file(ruta_shapefile)\n",
    "\n",
    "# Mostrar el mapa\n",
    "data.plot(figsize=(10, 10), cmap='viridis')\n",
    "plt.title('Mapa de influencia de gasolineras en manzanas')\n",
    "plt.show()"
   ]
  },
  {
   "cell_type": "code",
   "execution_count": null,
   "id": "c4ff727c-4570-4c87-9265-01aa1196ae82",
   "metadata": {},
   "outputs": [],
   "source": [
    "import geopandas as gpd\n",
    "import matplotlib.pyplot as plt\n",
    "\n",
    "# Ruta al archivo shapefile\n",
    "archivo_manzanas = 'manzanas_kmeans_gasolineras_reviews'\n",
    "ruta_manzanas = f\"./resultados/{archivo_manzanas}.shp\"\n",
    "\n",
    "# Cargar el archivo shapefile con geopandas\n",
    "manzanas = gpd.read_file(ruta_manzanas)\n",
    "\n",
    "# Graficar el mapa\n",
    "fig, ax = plt.subplots(figsize=(10, 10))\n",
    "\n",
    "# Graficar las manzanas\n",
    "manzanas.plot(ax=ax, color='blue', alpha=0.5)\n",
    "\n",
    "# Agregar círculos para señalar áreas de manzanas\n",
    "for idx, row in manzanas.iterrows():\n",
    "    # Obtener el centroide de cada geometría de manzana\n",
    "    centroid = row['geometry'].centroid\n",
    "    \n",
    "    # Dibujar un círculo con el centro en el centroide de la manzana\n",
    "    circle = plt.Circle((centroid.x, centroid.y), 20, color='red', fill=False)\n",
    "    ax.add_patch(circle)\n",
    "\n",
    "plt.title('Mapa de manzanas con círculos señalando áreas')\n",
    "plt.show()\n"
   ]
  },
  {
   "cell_type": "markdown",
   "id": "1d7d3005-2fed-4c28-9504-14b31a27926e",
   "metadata": {},
   "source": []
  },
  {
   "cell_type": "code",
   "execution_count": null,
   "id": "fd53b5ba-fedc-4eb6-812b-97af03e03b35",
   "metadata": {},
   "outputs": [],
   "source": [
    "import geopandas as gpd\n",
    "import matplotlib.pyplot as plt\n",
    "\n",
    "Influencia_reviews = spark.sql(\"\"\"\n",
    "    SELECT \n",
    "        CVEGEO,\n",
    "        manzanas.geometry,\n",
    "        ST_Centroid(ST_Intersection(manzanas.geometry, ST_Buffer(gas.geometry, 1500))) as centroid\n",
    "    FROM manzanas, gas\n",
    "    WHERE ST_Intersects(manzanas.geometry, ST_Buffer(gas.geometry, 1500))\n",
    "\"\"\").toPandas()\n",
    "\n",
    "import geopandas as gpd\n",
    "import matplotlib.pyplot as plt\n",
    "from shapely.geometry import Point\n",
    "\n",
    "# Cargar el resultado desde Spark a un DataFrame de Pandas\n",
    "resultados_pandas = Influencia_reviews\n",
    "\n",
    "# Convertir el DataFrame de Pandas a un GeoDataFrame de GeoPandas\n",
    "gdf = gpd.GeoDataFrame(resultados_pandas, geometry='centroid')\n",
    "\n",
    "# Graficar el resultado\n",
    "fig, ax = plt.subplots(figsize=(10, 10))\n",
    "\n",
    "# Graficar las manzanas\n",
    "manzanas.plot(ax=ax, color='blue', alpha=0.5)\n",
    "\n",
    "gdf['geometry'] = gpd.GeoSeries(gdf['geometry'])\n",
    "\n",
    "# Crear buffers para los puntos de gas\n",
    "gdf['buffer'] = gdf['geometry'].buffer(100)\n",
    "\n",
    "# Graficar los buffers\n",
    "gdf['buffer'].plot(ax=ax, color='orange', alpha=0.01)\n",
    "\n",
    "# Graficar el centroide de la intersección\n",
    "# gdf.plot(ax=ax, color='red', markersize=10, marker='o')\n",
    "\n",
    "plt.title('INFLUENCIA DE GASOLINERAS ESTUDIADAS EN EL CENTRO DE MONTERREY')\n",
    "plt.show()"
   ]
  },
  {
   "cell_type": "code",
   "execution_count": null,
   "id": "cb4671aa-b3fa-4dc1-9146-6d27ee49287f",
   "metadata": {},
   "outputs": [],
   "source": []
  }
 ],
 "metadata": {
  "kernelspec": {
   "display_name": "Python 3 (ipykernel)",
   "language": "python",
   "name": "python3"
  },
  "language_info": {
   "codemirror_mode": {
    "name": "ipython",
    "version": 3
   },
   "file_extension": ".py",
   "mimetype": "text/x-python",
   "name": "python",
   "nbconvert_exporter": "python",
   "pygments_lexer": "ipython3",
   "version": "3.8.17"
  }
 },
 "nbformat": 4,
 "nbformat_minor": 5
}
